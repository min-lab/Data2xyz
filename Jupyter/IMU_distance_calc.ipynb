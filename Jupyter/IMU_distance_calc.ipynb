{
 "cells": [
  {
   "cell_type": "code",
   "execution_count": 1,
   "metadata": {
    "execution": {
     "iopub.execute_input": "2020-04-30T14:28:01.622420Z",
     "iopub.status.busy": "2020-04-30T14:28:01.622420Z",
     "iopub.status.idle": "2020-04-30T14:28:02.012250Z",
     "shell.execute_reply": "2020-04-30T14:28:02.012250Z",
     "shell.execute_reply.started": "2020-04-30T14:28:01.622420Z"
    }
   },
   "outputs": [],
   "source": [
    "# 引入函示庫\n",
    "import numpy as np\n",
    "import pandas as pd\n",
    "import math\n",
    "import glob"
   ]
  },
  {
   "cell_type": "code",
   "execution_count": 31,
   "metadata": {
    "execution": {
     "iopub.execute_input": "2020-04-30T15:13:51.596348Z",
     "iopub.status.busy": "2020-04-30T15:13:51.596348Z",
     "iopub.status.idle": "2020-04-30T15:13:51.613338Z",
     "shell.execute_reply": "2020-04-30T15:13:51.613338Z",
     "shell.execute_reply.started": "2020-04-30T15:13:51.596348Z"
    }
   },
   "outputs": [],
   "source": [
    "real_distance = 1.824\n",
    "for file in glob.glob('../Data/20200430_mix/Processed/csv/imu_0430_4/IMU_1.csv'):\n",
    "    data = pd.read_csv(file)\n",
    "    data['x_v'] = np.abs(data['x'].iloc.cumsum()*data['duration'])/1000\n",
    "    data['y_v'] = np.abs(data['y'].cumsum()*data['duration'])/1000\n",
    "    data['z_v'] = np.abs(data['z'].cumsum()*data['duration'])/1000\n",
    "    data['x_distance'] = data['x_v'].cumsum()*data['duration']\n",
    "    data['y_distance'] = data['y_v'].cumsum()*data['duration']\n",
    "    data['z_distance'] = data['z_v'].cumsum()*data['duration']\n",
    "    data['z_error'] = np.abs(real_distance-data['z_distance'])\n",
    "    data['z_error']"
   ]
  },
  {
   "cell_type": "code",
   "execution_count": 34,
   "metadata": {
    "execution": {
     "iopub.execute_input": "2020-04-30T15:14:03.667051Z",
     "iopub.status.busy": "2020-04-30T15:14:03.667051Z",
     "iopub.status.idle": "2020-04-30T15:14:03.683042Z",
     "shell.execute_reply": "2020-04-30T15:14:03.683042Z",
     "shell.execute_reply.started": "2020-04-30T15:14:03.667051Z"
    }
   },
   "outputs": [],
   "source": [
    "file = '../Data/20200430_mix/Processed/csv/imu_0430_4/IMU_1.csv'\n",
    "data = pd.read_csv(file)\n",
    "data['x_v'] = data['x'].cumsum()*data['duration']/1000\n",
    "data['y_v'] = data['y'].cumsum()*data['duration']/1000\n",
    "data['z_v'] = data['z'].cumsum()*data['duration']/1000\n",
    "data['x_distance'] = data['x_v'].cumsum()*data['duration']\n",
    "data['y_distance'] = data['y_v'].cumsum()*data['duration']\n",
    "data['z_distance'] = data['z_v'].cumsum()*data['duration']\n",
    "data['z_error'] = np.abs(real_distance-data['z_distance'])"
   ]
  },
  {
   "cell_type": "code",
   "execution_count": 35,
   "metadata": {
    "execution": {
     "iopub.execute_input": "2020-04-30T15:14:03.930468Z",
     "iopub.status.busy": "2020-04-30T15:14:03.930468Z",
     "iopub.status.idle": "2020-04-30T15:14:03.935478Z",
     "shell.execute_reply": "2020-04-30T15:14:03.935478Z",
     "shell.execute_reply.started": "2020-04-30T15:14:03.930468Z"
    }
   },
   "outputs": [
    {
     "data": {
      "text/plain": [
       "-391509542.64906794"
      ]
     },
     "execution_count": 35,
     "metadata": {},
     "output_type": "execute_result"
    }
   ],
   "source": [
    "data['z_distance'].iloc[-1]"
   ]
  },
  {
   "cell_type": "code",
   "execution_count": 5,
   "metadata": {
    "scrolled": true
   },
   "outputs": [],
   "source": [
    "# 加速度積分\n",
    "x_v = np.zeros(data_num,float) # x軸速度\n",
    "y_v = np.zeros(data_num,float) # y軸速度\n",
    "z_v = np.zeros(data_num,float) # z軸速度\n",
    "for i in range(0,data_num):\n",
    "    x_v[i] = np.abs((np.sum(data[0][i:i+2]))*data[3][i]/sample_rate) # x軸加速度對時間積分 => x軸速度\n",
    "    y_v[i] = np.abs((np.sum(data[1][i:i+2]))*data[3][i]/sample_rate) # y軸加速度對時間積分 => y軸速度\n",
    "    z_v[i] = np.abs((np.sum(data[2][i:i+2]))*data[3][i]/sample_rate) # z軸加速度對時間積分 => z軸速度"
   ]
  },
  {
   "cell_type": "code",
   "execution_count": 6,
   "metadata": {},
   "outputs": [
    {
     "name": "stdout",
     "output_type": "stream",
     "text": [
      "實際測量距離 : 14.62 m\n",
      "實際測量時間 : 13.027 s\n",
      "實際間隔位移 : 2.24 m\n",
      "第 1 間隔位移 : 1.9469 m 誤差 : 29.31 cm\n",
      "第 2 間隔位移 : 1.7839 m 誤差 : 45.61 cm\n",
      "第 3 間隔位移 : 1.8967 m 誤差 : 34.33 cm\n",
      "第 4 間隔位移 : 1.8605 m 誤差 : 37.95 cm\n"
     ]
    }
   ],
   "source": [
    "distance = 14.62 # 實際測量距離\n",
    "time = np.sum(data[3])/1000 # 實際測量時間\n",
    "real_distance = round(2*distance/time,2) #實際間隔位移\n",
    "print('實際測量距離 :',distance,'m')\n",
    "print('實際測量時間 :',time,'s')\n",
    "print('實際間隔位移 :',real_distance,'m')\n",
    "interval = np.zeros(sample_num,float) # 間隔數\n",
    "x_distance = np.zeros(sample_num,float) # x軸間隔位移\n",
    "y_distance = np.zeros(sample_num,float) # y軸間隔位移\n",
    "z_distance = np.zeros(sample_num,float) # z軸間隔位移\n",
    "error_x = np.zeros(sample_num,float) # x軸位移誤差\n",
    "error_y = np.zeros(sample_num,float) # y軸位移誤差\n",
    "error_z = np.zeros(sample_num,float) # z軸位移誤差\n",
    "for i in range(0,sample_num):\n",
    "    interval[i] = i+1\n",
    "    x_distance[i] = np.sum(x_v[(i+1)*sample_rate:(i+2)*sample_rate])/20\n",
    "    y_distance[i] = np.sum(y_v[(i+1)*sample_rate:(i+2)*sample_rate])\n",
    "    z_distance[i] = np.sum(z_v[(i+1)*sample_rate:(i+2)*sample_rate])/20\n",
    "    error_x[i] = np.abs(round((0-x_distance[i])*100,2))\n",
    "    error_y[i] = np.abs(round((real_distance-y_distance[i])*100,2))\n",
    "    error_z[i] = np.abs(round((0-z_distance[i])*100,2))\n",
    "    print('第',int(interval[i]),'間隔位移 :',round(y_distance[i],4),'m','誤差 :',error_y[i],'cm')"
   ]
  },
  {
   "cell_type": "code",
   "execution_count": 7,
   "metadata": {},
   "outputs": [],
   "source": [
    "# 輸出excel檔案\n",
    "result = list(zip(interval,x_distance,error_x,y_distance,error_y,z_distance,error_z))\n",
    "result_df = pd.DataFrame(result,columns = ['間隔數','x間隔位移(m)','x誤差(cm)','y間隔位移(m)','y誤差(cm)','z間隔位移(m)','z誤差(cm)'])\n",
    "with pd.ExcelWriter('y_distance_1.xlsx') as writer:\n",
    "    result_df.to_excel(writer, sheet_name = '加速規位移', index = False)"
   ]
  }
 ],
 "metadata": {
  "kernelspec": {
   "display_name": "Python [conda env:Sci]",
   "language": "python",
   "name": "conda-env-Sci-py"
  },
  "language_info": {
   "codemirror_mode": {
    "name": "ipython",
    "version": 3
   },
   "file_extension": ".py",
   "mimetype": "text/x-python",
   "name": "python",
   "nbconvert_exporter": "python",
   "pygments_lexer": "ipython3",
   "version": "3.7.7"
  }
 },
 "nbformat": 4,
 "nbformat_minor": 4
}
