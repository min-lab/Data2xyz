{
 "cells": [
  {
   "cell_type": "code",
   "execution_count": 1,
   "metadata": {
    "execution": {
     "iopub.execute_input": "2020-05-16T05:12:36.673860Z",
     "iopub.status.busy": "2020-05-16T05:12:36.673860Z",
     "iopub.status.idle": "2020-05-16T05:12:37.945509Z",
     "shell.execute_reply": "2020-05-16T05:12:37.945509Z",
     "shell.execute_reply.started": "2020-05-16T05:12:36.673860Z"
    }
   },
   "outputs": [],
   "source": [
    "import pandas as pd\n",
    "import pyexcelerate"
   ]
  },
  {
   "cell_type": "code",
   "execution_count": 5,
   "metadata": {
    "execution": {
     "iopub.execute_input": "2020-05-16T05:12:42.785035Z",
     "iopub.status.busy": "2020-05-16T05:12:42.784035Z",
     "iopub.status.idle": "2020-05-16T05:12:42.787050Z",
     "shell.execute_reply": "2020-05-16T05:12:42.787050Z",
     "shell.execute_reply.started": "2020-05-16T05:12:42.785035Z"
    }
   },
   "outputs": [],
   "source": [
    "i_file = \"../Data/20200502_Lab/UWB/uwb_20200502_5.csv\"\n",
    "o_file = \"../Data/20200502_Lab/UWB/uwb_20200502_5.xlsx\""
   ]
  },
  {
   "cell_type": "code",
   "execution_count": 6,
   "metadata": {
    "execution": {
     "iopub.execute_input": "2020-05-16T05:12:42.886976Z",
     "iopub.status.busy": "2020-05-16T05:12:42.886976Z",
     "iopub.status.idle": "2020-05-16T05:12:42.950000Z",
     "shell.execute_reply": "2020-05-16T05:12:42.948994Z",
     "shell.execute_reply.started": "2020-05-16T05:12:42.886976Z"
    }
   },
   "outputs": [],
   "source": [
    "data = pd.read_csv(i_file)\n",
    "data = data[(data['Duration'] > 2.75) & (data['Duration'] < 11.25)]"
   ]
  },
  {
   "cell_type": "code",
   "execution_count": 7,
   "metadata": {
    "execution": {
     "iopub.execute_input": "2020-05-16T05:12:43.039170Z",
     "iopub.status.busy": "2020-05-16T05:12:43.039170Z",
     "iopub.status.idle": "2020-05-16T05:12:43.106195Z",
     "shell.execute_reply": "2020-05-16T05:12:43.106195Z",
     "shell.execute_reply.started": "2020-05-16T05:12:43.039170Z"
    }
   },
   "outputs": [],
   "source": [
    "w_data = [data.columns.tolist(),] + data.values.tolist()\n",
    "wb = pyexcelerate.Workbook()\n",
    "wb.new_sheet(\"UWB\", data=w_data)\n",
    "wb.save(o_file)"
   ]
  },
  {
   "cell_type": "code",
   "execution_count": null,
   "metadata": {},
   "outputs": [],
   "source": []
  }
 ],
 "metadata": {
  "kernelspec": {
   "display_name": "Python [conda env:Sci]",
   "language": "python",
   "name": "conda-env-Sci-py"
  },
  "language_info": {
   "codemirror_mode": {
    "name": "ipython",
    "version": 3
   },
   "file_extension": ".py",
   "mimetype": "text/x-python",
   "name": "python",
   "nbconvert_exporter": "python",
   "pygments_lexer": "ipython3",
   "version": "3.7.7"
  }
 },
 "nbformat": 4,
 "nbformat_minor": 4
}
