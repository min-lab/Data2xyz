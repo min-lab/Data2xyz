{
 "cells": [
  {
   "cell_type": "code",
   "execution_count": 1,
   "metadata": {},
   "outputs": [],
   "source": [
    "# 引入函示庫\n",
    "import numpy as np\n",
    "import pandas as pd\n",
    "from matplotlib import pyplot as plt\n",
    "import math"
   ]
  },
  {
   "cell_type": "code",
   "execution_count": 2,
   "metadata": {},
   "outputs": [],
   "source": [
    "# Excel檔讀取\n",
    "data = pd.read_excel(r'C:/Users/VLSILAB-78/Desktop/python_code/acce_data/filter/YW_filter/YW_1.xlsx',header = None,skiprows = 1)"
   ]
  },
  {
   "cell_type": "code",
   "execution_count": 3,
   "metadata": {},
   "outputs": [
    {
     "data": {
      "text/html": [
       "<div>\n",
       "<style scoped>\n",
       "    .dataframe tbody tr th:only-of-type {\n",
       "        vertical-align: middle;\n",
       "    }\n",
       "\n",
       "    .dataframe tbody tr th {\n",
       "        vertical-align: top;\n",
       "    }\n",
       "\n",
       "    .dataframe thead th {\n",
       "        text-align: right;\n",
       "    }\n",
       "</style>\n",
       "<table border=\"1\" class=\"dataframe\">\n",
       "  <thead>\n",
       "    <tr style=\"text-align: right;\">\n",
       "      <th></th>\n",
       "      <th>0</th>\n",
       "      <th>1</th>\n",
       "      <th>2</th>\n",
       "      <th>3</th>\n",
       "    </tr>\n",
       "  </thead>\n",
       "  <tbody>\n",
       "    <tr>\n",
       "      <td>0</td>\n",
       "      <td>0.236</td>\n",
       "      <td>1.219</td>\n",
       "      <td>7.484</td>\n",
       "      <td>0</td>\n",
       "    </tr>\n",
       "    <tr>\n",
       "      <td>1</td>\n",
       "      <td>0.268</td>\n",
       "      <td>1.082</td>\n",
       "      <td>6.723</td>\n",
       "      <td>2</td>\n",
       "    </tr>\n",
       "    <tr>\n",
       "      <td>2</td>\n",
       "      <td>0.295</td>\n",
       "      <td>0.959</td>\n",
       "      <td>6.063</td>\n",
       "      <td>2</td>\n",
       "    </tr>\n",
       "    <tr>\n",
       "      <td>3</td>\n",
       "      <td>0.343</td>\n",
       "      <td>0.820</td>\n",
       "      <td>5.476</td>\n",
       "      <td>3</td>\n",
       "    </tr>\n",
       "    <tr>\n",
       "      <td>4</td>\n",
       "      <td>0.363</td>\n",
       "      <td>0.716</td>\n",
       "      <td>4.970</td>\n",
       "      <td>2</td>\n",
       "    </tr>\n",
       "  </tbody>\n",
       "</table>\n",
       "</div>"
      ],
      "text/plain": [
       "       0      1      2  3\n",
       "0  0.236  1.219  7.484  0\n",
       "1  0.268  1.082  6.723  2\n",
       "2  0.295  0.959  6.063  2\n",
       "3  0.343  0.820  5.476  3\n",
       "4  0.363  0.716  4.970  2"
      ]
     },
     "execution_count": 3,
     "metadata": {},
     "output_type": "execute_result"
    }
   ],
   "source": [
    "# 顯示data\n",
    "data.head(5) # data[0]、data[1]、data[2]、data[3] 分別為 x、y、z 軸以及時間(ms) data"
   ]
  },
  {
   "cell_type": "code",
   "execution_count": 4,
   "metadata": {},
   "outputs": [
    {
     "name": "stdout",
     "output_type": "stream",
     "text": [
      "data_num = 5339\n",
      "sample_num = 4\n"
     ]
    }
   ],
   "source": [
    "# 資料筆數、樣本數、取樣數顯示\n",
    "data_num = len(data) # 資料筆數\n",
    "sample_rate = 1000      # 樣本數 : 1000筆data約為兩秒\n",
    "sample_num = int(data_num/sample_rate) - 1 # 取樣數\n",
    "print('data_num =',data_num)\n",
    "print('sample_num =',sample_num)"
   ]
  },
  {
   "cell_type": "code",
   "execution_count": 5,
   "metadata": {
    "scrolled": true
   },
   "outputs": [],
   "source": [
    "# 加速度積分\n",
    "x_v = np.zeros(data_num,float) # x軸速度\n",
    "y_v = np.zeros(data_num,float) # y軸速度\n",
    "z_v = np.zeros(data_num,float) # z軸速度\n",
    "for i in range(0,data_num):\n",
    "    x_v[i] = np.abs((np.sum(data[0][i:i+2]))*data[3][i]/sample_rate) # x軸加速度對時間積分 => x軸速度\n",
    "    y_v[i] = np.abs((np.sum(data[1][i:i+2]))*data[3][i]/sample_rate) # y軸加速度對時間積分 => y軸速度\n",
    "    z_v[i] = np.abs((np.sum(data[2][i:i+2]))*data[3][i]/sample_rate) # z軸加速度對時間積分 => z軸速度"
   ]
  },
  {
   "cell_type": "code",
   "execution_count": 6,
   "metadata": {},
   "outputs": [
    {
     "name": "stdout",
     "output_type": "stream",
     "text": [
      "實際測量距離 : 14.62 m\n",
      "實際測量時間 : 13.027 s\n",
      "實際間隔位移 : 2.24 m\n",
      "第 1 間隔位移 : 1.9469 m 誤差 : 29.31 cm\n",
      "第 2 間隔位移 : 1.7839 m 誤差 : 45.61 cm\n",
      "第 3 間隔位移 : 1.8967 m 誤差 : 34.33 cm\n",
      "第 4 間隔位移 : 1.8605 m 誤差 : 37.95 cm\n"
     ]
    }
   ],
   "source": [
    "distance = 14.62 # 實際測量距離\n",
    "time = np.sum(data[3])/1000 # 實際測量時間\n",
    "real_distance = round(2*distance/time,2) #實際間隔位移\n",
    "print('實際測量距離 :',distance,'m')\n",
    "print('實際測量時間 :',time,'s')\n",
    "print('實際間隔位移 :',real_distance,'m')\n",
    "interval = np.zeros(sample_num,float) # 間隔數\n",
    "x_distance = np.zeros(sample_num,float) # x軸間隔位移\n",
    "y_distance = np.zeros(sample_num,float) # y軸間隔位移\n",
    "z_distance = np.zeros(sample_num,float) # z軸間隔位移\n",
    "error_x = np.zeros(sample_num,float) # x軸位移誤差\n",
    "error_y = np.zeros(sample_num,float) # y軸位移誤差\n",
    "error_z = np.zeros(sample_num,float) # z軸位移誤差\n",
    "for i in range(0,sample_num):\n",
    "    interval[i] = i+1\n",
    "    x_distance[i] = np.sum(x_v[(i+1)*sample_rate:(i+2)*sample_rate])/20\n",
    "    y_distance[i] = np.sum(y_v[(i+1)*sample_rate:(i+2)*sample_rate])\n",
    "    z_distance[i] = np.sum(z_v[(i+1)*sample_rate:(i+2)*sample_rate])/20\n",
    "    error_x[i] = np.abs(round((0-x_distance[i])*100,2))\n",
    "    error_y[i] = np.abs(round((real_distance-y_distance[i])*100,2))\n",
    "    error_z[i] = np.abs(round((0-z_distance[i])*100,2))\n",
    "    print('第',int(interval[i]),'間隔位移 :',round(y_distance[i],4),'m','誤差 :',error_y[i],'cm')"
   ]
  },
  {
   "cell_type": "code",
   "execution_count": 7,
   "metadata": {},
   "outputs": [],
   "source": [
    "# 輸出excel檔案\n",
    "result = list(zip(interval,x_distance,error_x,y_distance,error_y,z_distance,error_z))\n",
    "result_df = pd.DataFrame(result,columns = ['間隔數','x間隔位移(m)','x誤差(cm)','y間隔位移(m)','y誤差(cm)','z間隔位移(m)','z誤差(cm)'])\n",
    "with pd.ExcelWriter('y_distance_1.xlsx') as writer:\n",
    "    result_df.to_excel(writer, sheet_name = '加速規位移', index = False)"
   ]
  }
 ],
 "metadata": {
  "kernelspec": {
   "display_name": "Python 3",
   "language": "python",
   "name": "python3"
  },
  "language_info": {
   "codemirror_mode": {
    "name": "ipython",
    "version": 3
   },
   "file_extension": ".py",
   "mimetype": "text/x-python",
   "name": "python",
   "nbconvert_exporter": "python",
   "pygments_lexer": "ipython3",
   "version": "3.7.4"
  }
 },
 "nbformat": 4,
 "nbformat_minor": 2
}
