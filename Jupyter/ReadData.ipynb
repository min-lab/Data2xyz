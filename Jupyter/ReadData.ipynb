{
 "cells": [
  {
   "cell_type": "code",
   "execution_count": null,
   "metadata": {},
   "outputs": [],
   "source": [
    "import pandas as pd \n",
    "from urllib import request\n",
    "import json\n",
    "import time"
   ]
  },
  {
   "cell_type": "code",
   "execution_count": null,
   "metadata": {},
   "outputs": [],
   "source": [
    "url = 'http://192.168.0.124/php/diagnosis.php?getrangingdiagnosis=421000000000'\n",
    "tag = '1231'\n",
    "url = url + tag\n",
    "columns = ['Ranging', 'Duration']\n",
    "recv_freq = 0.5"
   ]
  },
  {
   "cell_type": "code",
   "execution_count": null,
   "metadata": {},
   "outputs": [],
   "source": [
    "def recv_data(url, drop_columns, start_time):\n",
    "    data = request.urlopen(url).read().decode(\"utf-8\")\n",
    "    cur_time = time.time()\n",
    "    locator_data = []\n",
    "    data_str = json.loads(data)\n",
    "    for idx in range(0, len(data_str)):\n",
    "        locator = list(data_str.keys())[idx]\n",
    "        locator_data.append(json.loads(data_str[locator]))\n",
    "    locator_frame = pd.DataFrame(locator_data, index=list(data_str.keys()))\n",
    "    #locator_frame[['Rx','Ry','Rz','Ax','Ay','Az']] = locator_frame['IMU'].str.split(',', expand=True)\n",
    "    locator_frame['Duration'] = cur_time-start_time\n",
    "    locator_frame = locator_frame[columns]\n",
    "    return locator_frame, cur_time"
   ]
  },
  {
   "cell_type": "code",
   "execution_count": null,
   "metadata": {},
   "outputs": [],
   "source": [
    "data_cnt = 1\n",
    "start_time = time.time()\n",
    "result = pd.DataFrame()\n",
    "while(1):\n",
    "    try:\n",
    "        try:\n",
    "            cur_data, cur_time = recv_data(url, columns, start_time)\n",
    "            result = result.append(cur_data)    \n",
    "            print(\"資料筆數:\",data_cnt,\", 持續時間:\",cur_time-start_time)\n",
    "            data_cnt = data_cnt + 1\n",
    "        except:\n",
    "            print('沒有數據!')\n",
    "        time.sleep(recv_freq)\n",
    "    except KeyboardInterrupt:\n",
    "        break"
   ]
  },
  {
   "cell_type": "code",
   "execution_count": null,
   "metadata": {},
   "outputs": [],
   "source": [
    "csv_name = 'uwb' + '.csv'\n",
    "pd.to_csv(csv_name, index=False)"
   ]
  },
  {
   "cell_type": "code",
   "execution_count": null,
   "metadata": {},
   "outputs": [],
   "source": []
  }
 ],
 "metadata": {
  "kernelspec": {
   "display_name": "Python 3",
   "language": "python",
   "name": "python3"
  },
  "language_info": {
   "codemirror_mode": {
    "name": "ipython",
    "version": 3
   },
   "file_extension": ".py",
   "mimetype": "text/x-python",
   "name": "python",
   "nbconvert_exporter": "python",
   "pygments_lexer": "ipython3",
   "version": "3.7.7"
  }
 },
 "nbformat": 4,
 "nbformat_minor": 4
}
